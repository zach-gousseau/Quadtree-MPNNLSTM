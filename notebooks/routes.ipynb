{
 "cells": [
  {
   "cell_type": "code",
   "execution_count": 1,
   "id": "953e3a2b-f3f1-4ce3-86c0-8202d863c529",
   "metadata": {},
   "outputs": [],
   "source": [
    "import xarray as xr\n",
    "import numpy as np\n",
    "import pandas as pd\n",
    "import datetime\n",
    "import re\n",
    "import matplotlib.pyplot as plt\n",
    "from PIL import Image\n",
    "import glob\n",
    "\n",
    "import os\n",
    "os.chdir('../')\n",
    "\n",
    "from model.utils import int_to_datetime\n",
    "\n",
    "results_dir = 'results/ice_results_may7_exp_0'\n",
    "\n",
    "year_start, year_end, timestep_in, timestep_out = re.search(r'Y(\\d+)_Y(\\d+)_I(\\d+)O(\\d+)', glob.glob(results_dir+'/*.nc')[0]).groups()\n",
    "\n",
    "months = list(range(1, 13))\n",
    "ds = []\n",
    "for month in months:\n",
    "    try:\n",
    "        ds.append(xr.open_dataset(f'{results_dir}/valpredictions_M{month}_Y{year_start}_Y{year_end}_I{timestep_in}O{timestep_out}.nc', engine='netcdf4'))\n",
    "    except Exception as e: #FileNotFoundError:\n",
    "        print(e)\n",
    "        pass\n",
    "    \n",
    "ds = xr.concat(ds, dim='launch_date')\n",
    "ds = ds.rio.set_crs(4326)\n",
    "ds['launch_date'] = [int_to_datetime(dt) for dt in ds.launch_date.values]"
   ]
  },
  {
   "cell_type": "code",
   "execution_count": 50,
   "id": "fbb5db05-83d9-41fe-ba41-42bb7268c2f7",
   "metadata": {},
   "outputs": [],
   "source": [
    "route = np.array(Image.open('data/shipping_corridors/primary_route_mask.png').convert('L'))\n",
    "\n",
    "route_ = xr.open_dataset(glob.glob('data/ERA5_GLORYS/*.nc')[0]).isel(time=0).siconc\n",
    "route_.values = route\n",
    "route = route_"
   ]
  },
  {
   "cell_type": "code",
   "execution_count": 84,
   "id": "79269c48-6862-4c1b-b9db-e1d3adf45607",
   "metadata": {},
   "outputs": [],
   "source": [
    "lead_time = 15\n",
    "\n",
    "pred_doys = []\n",
    "true_doys = []\n",
    "\n",
    "for lead_time in range(1, 91):\n",
    "    route_open_list_pred = []\n",
    "    route_open_list_true = []\n",
    "    for ld in ds.launch_date:\n",
    "        ds.sel(launch_date=ld, timestep=lead_time)\n",
    "\n",
    "        ice_binary = (ds.sel(launch_date=ld, timestep=lead_time) > 0.15)\n",
    "\n",
    "        route_open = (~(ice_binary * route).y_hat).all().values.item()\n",
    "        route_open_list_pred.append(route_open)\n",
    "\n",
    "        route_open = (~(ice_binary * route).y_true).all().values.item()\n",
    "        route_open_list_true.append(route_open)\n",
    "\n",
    "    pred_doy = np.where(np.cumsum(route_open_list_pred) >= 15)[0][0]\n",
    "    true_doy = np.where(np.cumsum(route_open_list_true) >= 15)[0][0]\n",
    "    \n",
    "    pred_doys.append(pred_doy)\n",
    "    true_doys.append(true_doy)\n",
    "    \n",
    "doys_error = np.array(true_doys) - np.array(pred_doys)"
   ]
  },
  {
   "cell_type": "code",
   "execution_count": 92,
   "id": "c0f30ec4-9c67-4d6a-bcc4-ddd55f4b9117",
   "metadata": {},
   "outputs": [
    {
     "data": {
      "text/plain": [
       "<matplotlib.collections.PathCollection at 0x159c4dde0>"
      ]
     },
     "execution_count": 92,
     "metadata": {},
     "output_type": "execute_result"
    },
    {
     "data": {
      "image/png": "[encoded data removed]",
      "text/plain": [
       "<Figure size 640x480 with 1 Axes>"
      ]
     },
     "metadata": {},
     "output_type": "display_data"
    }
   ],
   "source": [
    "plt.scatter(range(90), np.abs(doys_error))"
   ]
  },
  {
   "cell_type": "code",
   "execution_count": 73,
   "id": "d7c344d0-f034-4489-adeb-9ee20fea88f8",
   "metadata": {},
   "outputs": [
    {
     "data": {
      "image/png": "[encoded data removed]",
      "text/plain": [
       "<Figure size 400x300 with 1 Axes>"
      ]
     },
     "metadata": {},
     "output_type": "display_data"
    }
   ],
   "source": [
    "plt.figure(figsize=(4, 3))\n",
    "plt.imshow(np.array([route_open_list_pred, route_open_list_true]), interpolation='none')\n",
    "plt.gca().set_aspect('auto')\n",
    "plt.show()"
   ]
  },
  {
   "cell_type": "code",
   "execution_count": 79,
   "id": "fd3b3833-8fc3-4b19-8975-8ffb39cfb522",
   "metadata": {},
   "outputs": [
    {
     "data": {
      "text/plain": [
       "205"
      ]
     },
     "execution_count": 79,
     "metadata": {},
     "output_type": "execute_result"
    }
   ],
   "source": [
    "np.where(np.cumsum(route_open_list_true) >= 15)[0][0]"
   ]
  },
  {
   "cell_type": "code",
   "execution_count": 78,
   "id": "f1ddcc8b-45fe-406e-bc40-33a22a7ce41f",
   "metadata": {},
   "outputs": [
    {
     "data": {
      "text/plain": [
       "202"
      ]
     },
     "execution_count": 78,
     "metadata": {},
     "output_type": "execute_result"
    }
   ],
   "source": [
    "np.where(np.cumsum(route_open_list_pred) >= 15)[0][0]"
   ]
  }
 ],
 "metadata": {
  "kernelspec": {
   "display_name": "thesis",
   "language": "python",
   "name": "thesis"
  },
  "language_info": {
   "codemirror_mode": {
    "name": "ipython",
    "version": 3
   },
   "file_extension": ".py",
   "mimetype": "text/x-python",
   "name": "python",
   "nbconvert_exporter": "python",
   "pygments_lexer": "ipython3",
   "version": "3.10.10"
  }
 },
 "nbformat": 4,
 "nbformat_minor": 5
}
