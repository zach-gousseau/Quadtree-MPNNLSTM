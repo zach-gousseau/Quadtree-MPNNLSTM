{
 "cells": [
  {
   "cell_type": "code",
   "execution_count": 1,
   "id": "a87f3e9f-5b23-460e-a9b6-8f904c9ad878",
   "metadata": {},
   "outputs": [
    {
     "name": "stderr",
     "output_type": "stream",
     "text": [
      "/Users/zach/opt/miniconda3/envs/mpnnlstm/lib/python3.8/site-packages/tqdm/auto.py:22: TqdmWarning: IProgress not found. Please update jupyter and ipywidgets. See https://ipywidgets.readthedocs.io/en/stable/user_install.html\n",
      "  from .autonotebook import tqdm as notebook_tqdm\n"
     ]
    }
   ],
   "source": [
    "%load_ext autoreload\n",
    "%autoreload 2\n",
    "\n",
    "import matplotlib.pyplot as plt\n",
    "import numpy as np\n",
    "import torch\n",
    "import random\n",
    "import os\n",
    "\n",
    "from mod_moving_mnist import ModMovingMNIST\n",
    "from mpnnlstm import NextFramePredictor\n",
    "\n",
    "from utils import normalize"
   ]
  },
  {
   "cell_type": "code",
   "execution_count": 2,
   "id": "6153c848-a5e8-4b93-8aa6-f59a0b957c25",
   "metadata": {},
   "outputs": [],
   "source": [
    "np.random.seed(42)\n",
    "random.seed(42)\n",
    "torch.manual_seed(42)\n",
    "\n",
    "# Number of frames to read as input\n",
    "input_timesteps = 4\n",
    "output_timesteps= 4\n",
    "\n",
    "# Create a dataset using the modified MovingMNIST\n",
    "MMMNIST = ModMovingMNIST(\n",
    "    canvas_size=(16, 16),\n",
    "    digit_size=(6, 6),\n",
    "    pixel_noise=0.05,\n",
    "    velocity_noise=0.0,\n",
    ")\n",
    "\n",
    "# Create a train set (500), test set (50), and validation set (50)\n",
    "x, y = MMMNIST.create_dataset(100, input_timesteps, output_timesteps, n_digits=1)\n",
    "x_test, y_test = MMMNIST.create_dataset(50, input_timesteps, output_timesteps, n_digits=1)\n",
    "x_val, y_val = MMMNIST.create_dataset(50, input_timesteps, output_timesteps, n_digits=1)\n",
    "\n",
    "y, y_test, y_val = y[:, ::-1].copy(), y_test[:, ::-1].copy(), y_val[:, ::-1].copy()\n",
    "\n",
    "# x, y = normalize(x), normalize(y)\n",
    "# x_test, y_test = normalize(x_test), normalize(y_test)\n",
    "# x_val, y_val = normalize(x), normalize(y)"
   ]
  },
  {
   "cell_type": "code",
   "execution_count": 3,
   "id": "06dd7ed9-fc8a-40c0-aa4b-8d7608e79719",
   "metadata": {},
   "outputs": [
    {
     "name": "stderr",
     "output_type": "stream",
     "text": [
      "                                                \r"
     ]
    },
    {
     "name": "stdout",
     "output_type": "stream",
     "text": [
      "Epoch 0 train MSE: 0.4376, test MSE: 0.3900, lr: 0.0010, time_per_epoch: 11.5\n"
     ]
    },
    {
     "name": "stderr",
     "output_type": "stream",
     "text": [
      "                                                 \r"
     ]
    },
    {
     "name": "stdout",
     "output_type": "stream",
     "text": [
      "Epoch 1 train MSE: 0.3771, test MSE: 0.3647, lr: 0.0010, time_per_epoch: 11.4\n"
     ]
    },
    {
     "name": "stderr",
     "output_type": "stream",
     "text": [
      "                                                 \r"
     ]
    },
    {
     "name": "stdout",
     "output_type": "stream",
     "text": [
      "Epoch 2 train MSE: 0.3688, test MSE: 0.3552, lr: 0.0010, time_per_epoch: 12.8\n"
     ]
    },
    {
     "name": "stderr",
     "output_type": "stream",
     "text": [
      "                                                 \r"
     ]
    },
    {
     "name": "stdout",
     "output_type": "stream",
     "text": [
      "Epoch 3 train MSE: 0.3554, test MSE: 0.3488, lr: 0.0010, time_per_epoch: 13.3\n"
     ]
    },
    {
     "name": "stderr",
     "output_type": "stream",
     "text": [
      "                                                 \r"
     ]
    },
    {
     "name": "stdout",
     "output_type": "stream",
     "text": [
      "Epoch 4 train MSE: 0.3464, test MSE: 0.3411, lr: 0.0010, time_per_epoch: 13.7\n"
     ]
    },
    {
     "name": "stderr",
     "output_type": "stream",
     "text": [
      "                                                 \r"
     ]
    },
    {
     "name": "stdout",
     "output_type": "stream",
     "text": [
      "Epoch 5 train MSE: 0.3476, test MSE: 0.3479, lr: 0.0010, time_per_epoch: 14.1\n"
     ]
    },
    {
     "name": "stderr",
     "output_type": "stream",
     "text": [
      "                                                 \r"
     ]
    },
    {
     "name": "stdout",
     "output_type": "stream",
     "text": [
      "Epoch 6 train MSE: 0.3404, test MSE: 0.3410, lr: 0.0010, time_per_epoch: 14.4\n"
     ]
    },
    {
     "name": "stderr",
     "output_type": "stream",
     "text": [
      "                                                 \r"
     ]
    },
    {
     "name": "stdout",
     "output_type": "stream",
     "text": [
      "Epoch 7 train MSE: 0.3410, test MSE: 0.3242, lr: 0.0010, time_per_epoch: 14.6\n"
     ]
    },
    {
     "name": "stderr",
     "output_type": "stream",
     "text": [
      "                                                 \r"
     ]
    },
    {
     "name": "stdout",
     "output_type": "stream",
     "text": [
      "Epoch 8 train MSE: 0.3362, test MSE: 0.3262, lr: 0.0010, time_per_epoch: 14.9\n"
     ]
    },
    {
     "name": "stderr",
     "output_type": "stream",
     "text": [
      "                                                 \r"
     ]
    },
    {
     "name": "stdout",
     "output_type": "stream",
     "text": [
      "Epoch 9 train MSE: 0.3325, test MSE: 0.3280, lr: 0.0009, time_per_epoch: 15.1\n"
     ]
    },
    {
     "name": "stderr",
     "output_type": "stream",
     "text": [
      "                                                 \r"
     ]
    },
    {
     "name": "stdout",
     "output_type": "stream",
     "text": [
      "Epoch 10 train MSE: 0.3219, test MSE: 0.3394, lr: 0.0009, time_per_epoch: 15.1\n"
     ]
    },
    {
     "name": "stderr",
     "output_type": "stream",
     "text": [
      "                                                 \r"
     ]
    },
    {
     "name": "stdout",
     "output_type": "stream",
     "text": [
      "Epoch 11 train MSE: 0.3261, test MSE: 0.3171, lr: 0.0009, time_per_epoch: 15.3\n"
     ]
    },
    {
     "name": "stderr",
     "output_type": "stream",
     "text": [
      "                                                 \r"
     ]
    },
    {
     "name": "stdout",
     "output_type": "stream",
     "text": [
      "Epoch 12 train MSE: 0.3227, test MSE: 0.3313, lr: 0.0009, time_per_epoch: 15.3\n"
     ]
    },
    {
     "name": "stderr",
     "output_type": "stream",
     "text": [
      "                                                 \r"
     ]
    },
    {
     "name": "stdout",
     "output_type": "stream",
     "text": [
      "Epoch 13 train MSE: 0.3191, test MSE: 0.3133, lr: 0.0009, time_per_epoch: 15.5\n"
     ]
    },
    {
     "name": "stderr",
     "output_type": "stream",
     "text": [
      "                                                 \r"
     ]
    },
    {
     "name": "stdout",
     "output_type": "stream",
     "text": [
      "Epoch 14 train MSE: 0.3131, test MSE: 0.3267, lr: 0.0009, time_per_epoch: 15.6\n"
     ]
    },
    {
     "name": "stderr",
     "output_type": "stream",
     "text": [
      "                                                 \r"
     ]
    },
    {
     "name": "stdout",
     "output_type": "stream",
     "text": [
      "Epoch 15 train MSE: 0.3179, test MSE: 0.3211, lr: 0.0009, time_per_epoch: 15.6\n"
     ]
    },
    {
     "name": "stderr",
     "output_type": "stream",
     "text": [
      "                                                 \r"
     ]
    },
    {
     "name": "stdout",
     "output_type": "stream",
     "text": [
      "Epoch 16 train MSE: 0.3180, test MSE: 0.3181, lr: 0.0009, time_per_epoch: 15.6\n"
     ]
    },
    {
     "name": "stderr",
     "output_type": "stream",
     "text": [
      "                                                 \r"
     ]
    },
    {
     "name": "stdout",
     "output_type": "stream",
     "text": [
      "Epoch 17 train MSE: 0.3165, test MSE: 0.3075, lr: 0.0009, time_per_epoch: 15.6\n"
     ]
    },
    {
     "name": "stderr",
     "output_type": "stream",
     "text": [
      "                                                 \r"
     ]
    },
    {
     "name": "stdout",
     "output_type": "stream",
     "text": [
      "Epoch 18 train MSE: 0.3187, test MSE: 0.3098, lr: 0.0009, time_per_epoch: 15.6\n"
     ]
    },
    {
     "name": "stderr",
     "output_type": "stream",
     "text": [
      "                                                 \r"
     ]
    },
    {
     "name": "stdout",
     "output_type": "stream",
     "text": [
      "Epoch 19 train MSE: 0.3151, test MSE: 0.3072, lr: 0.0009, time_per_epoch: 15.6\n"
     ]
    },
    {
     "name": "stderr",
     "output_type": "stream",
     "text": [
      "                                                 \r"
     ]
    },
    {
     "name": "stdout",
     "output_type": "stream",
     "text": [
      "Epoch 20 train MSE: 0.3103, test MSE: 0.2981, lr: 0.0009, time_per_epoch: 15.6\n"
     ]
    },
    {
     "name": "stderr",
     "output_type": "stream",
     "text": [
      "                                                 \r"
     ]
    },
    {
     "name": "stdout",
     "output_type": "stream",
     "text": [
      "Epoch 21 train MSE: 0.3070, test MSE: 0.3220, lr: 0.0009, time_per_epoch: 15.5\n"
     ]
    },
    {
     "name": "stderr",
     "output_type": "stream",
     "text": [
      "                                                 \r"
     ]
    },
    {
     "name": "stdout",
     "output_type": "stream",
     "text": [
      "Epoch 22 train MSE: 0.3146, test MSE: 0.3162, lr: 0.0009, time_per_epoch: 15.5\n"
     ]
    },
    {
     "name": "stderr",
     "output_type": "stream",
     "text": [
      "                                                \r"
     ]
    },
    {
     "name": "stdout",
     "output_type": "stream",
     "text": [
      "Epoch 23 train MSE: 0.3031, test MSE: 0.3135, lr: 0.0009, time_per_epoch: 15.4\n"
     ]
    },
    {
     "name": "stderr",
     "output_type": "stream",
     "text": [
      "                                                 \r"
     ]
    },
    {
     "name": "stdout",
     "output_type": "stream",
     "text": [
      "Epoch 24 train MSE: 0.3053, test MSE: 0.3064, lr: 0.0009, time_per_epoch: 15.4\n",
      "Finished in 6.413673329353332 minutes\n"
     ]
    }
   ],
   "source": [
    "from mpnnlstm import NextFramePredictor\n",
    "from seq2seq import Seq2Seq\n",
    "\n",
    "from torch.optim.lr_scheduler import StepLR\n",
    "import time\n",
    "import pandas as pd\n",
    "from tqdm import tqdm\n",
    "\n",
    "from graph_functions import image_to_graph, flatten, create_graph_structure, unflatten\n",
    "from utils import add_positional_encoding\n",
    "\n",
    "device = torch.device(\"cuda:0\" if torch.cuda.is_available() else \"cpu\")\n",
    "\n",
    "class NextFramePredictorSeq2Seq(NextFramePredictor):\n",
    "    def __init__(self, \n",
    "                 experiment_name='reduced', \n",
    "                 decompose=True, \n",
    "                 input_features=1,\n",
    "                 multi_step_loss=1, \n",
    "                 output_timesteps=3,\n",
    "                 integrated_space_time=True,\n",
    "                 device=device,\n",
    "                 **model_kwargs):\n",
    "        \n",
    "        super().__init__(\n",
    "                 experiment_name='reduced', \n",
    "                 decompose=True, \n",
    "                 input_features=1,\n",
    "                 multi_step_loss=1, \n",
    "                 integrated_space_time=True,\n",
    "                 device=device,\n",
    "                 **model_kwargs)\n",
    "        \n",
    "        self.output_timesteps = output_timesteps\n",
    "        \n",
    "\n",
    "        # Add 3 to the number of input features since we add positional encoding (x, y) and node size (s)\n",
    "        self.model = Seq2Seq(input_features=input_features+3, output_timesteps=output_timesteps, **model_kwargs).float()\n",
    "\n",
    "\n",
    "    def train(\n",
    "        self,\n",
    "        x,\n",
    "        y,\n",
    "        x_test,\n",
    "        y_test,\n",
    "        n_epochs=200,\n",
    "        lr=0.01,\n",
    "        lr_decay=0.95,\n",
    "        ):\n",
    "\n",
    "        if self.thresh is None:\n",
    "            raise ValueError('Please set the threshold using set_thresh(thresh)!')\n",
    "\n",
    "        image_shape = x[0].shape[1:-1]\n",
    "\n",
    "        x = add_positional_encoding(x, self.model.input_timesteps)\n",
    "        x_test = add_positional_encoding(x_test, self.model.input_timesteps)\n",
    "\n",
    "        # Add 2 to the number of features since we add positional encoding (x, y)\n",
    "        # x_graph = [image_to_graph(img, num_features=self.input_features+2, thresh=self.thresh) for img in x]\n",
    "        # x_test_graph = [image_to_graph(img, num_features=self.input_features+2, thresh=self.thresh) for img in x_test]\n",
    "            \n",
    "        self.model.to(device)\n",
    "        self.model.train()\n",
    "\n",
    "        # loss_func = torch.nn.MSELoss()\n",
    "        loss_func = torch.nn.BCELoss()\n",
    "        optimizer = torch.optim.SGD(self.model.parameters(), lr=lr, momentum=0.9)\n",
    "        scheduler = StepLR(optimizer, step_size=10, gamma=lr_decay)\n",
    "\n",
    "        test_loss = []\n",
    "        train_loss = []\n",
    "\n",
    "        st = time.time()\n",
    "        for epoch in range(n_epochs): \n",
    "            running_loss = 0\n",
    "            step = 0\n",
    "            for i in tqdm(range(len(x)), leave=False):\n",
    "\n",
    "                x_batch_img = x[i]  # 2D images (num_timesteps, x, y)\n",
    "                y_batch_img = y[i]\n",
    "\n",
    "                x_graph = image_to_graph(x_batch_img, num_features=self.input_features+2, thresh=self.thresh)\n",
    "\n",
    "                # Create a PyG graph object\n",
    "                graph = create_graph_structure(x_graph['graph_nodes'], x_graph['distances'])\n",
    "\n",
    "                x_batch = x_graph['data']  # Image in graph format\n",
    "                # y_batch, _, _ = flatten(y_batch_img, x_graph['labels'], num_features=1)\n",
    "                \n",
    "                # Turn target frame into graph using the graph structure from the input frames\n",
    "                # y_batch, _, _ = flatten(y[i], x_graph['labels'], num_features=1)\n",
    "\n",
    "\n",
    "                graph.x = torch.from_numpy(x_batch).float()\n",
    "                graph.y = torch.from_numpy(y_batch_img).float()\n",
    "\n",
    "                graph.to(device)\n",
    "\n",
    "                optimizer.zero_grad()\n",
    "                \n",
    "                skip = graph.x[-1, :, [0]]  # 0th index variable is the variable of interest\n",
    "\n",
    "                y_hat, y_hat_graph = self.model(graph.x, graph.y, x_graph, skip, image_shape, thresh=self.thresh, teacher_forcing_ratio=0.5)\n",
    "                \n",
    "                y_true = [torch.Tensor(flatten(np.expand_dims(y_batch_img[i], 0), y_hat_graph[i]['labels'], num_features=1)[0])[0] for i in range(self.output_timesteps)]\n",
    "                \n",
    "                y_hat = torch.cat(y_hat, dim=0)\n",
    "                y_true = torch.cat(y_true, dim=0)\n",
    "                loss = loss_func(y_hat, y_true)\n",
    "\n",
    "                loss.backward()\n",
    "                optimizer.step()\n",
    "\n",
    "                step += 1\n",
    "                running_loss += loss\n",
    "\n",
    "\n",
    "            running_loss_test = 0\n",
    "            step_test = 0\n",
    "            for i in range(len(x_test)):\n",
    "\n",
    "                x_batch_test_img = x_test[i]  # 2D images (num_timesteps, x, y)\n",
    "                y_batch_img = y_test[i]\n",
    "\n",
    "                x_test_graph = image_to_graph(x_batch_test_img, num_features=self.input_features+2, thresh=self.thresh)\n",
    "\n",
    "                graph = create_graph_structure(x_test_graph['graph_nodes'], x_test_graph['distances'])\n",
    "\n",
    "                x_batch = x_test_graph['data']\n",
    "                \n",
    "                \n",
    "                graph.x = torch.from_numpy(x_batch).float()\n",
    "                graph.y = torch.from_numpy(y_batch_img).float()\n",
    "\n",
    "                graph.to(device)\n",
    "\n",
    "                skip = graph.x[-1, :, [0]]  # 0th index variable is the variable of interest\n",
    "                \n",
    "                y_hat, y_hat_graph = self.model(graph.x, graph.y, x_test_graph, skip, image_shape, thresh=self.thresh, teacher_forcing_ratio=0.5)\n",
    "                \n",
    "                y_true = [torch.Tensor(flatten(np.expand_dims(y_batch_img[i], 0), y_hat_graph[i]['labels'], num_features=1)[0])[0] for i in range(self.output_timesteps)]\n",
    "                \n",
    "                y_hat = torch.cat(y_hat, dim=0)\n",
    "                y_true = torch.cat(y_true, dim=0)\n",
    "                \n",
    "                loss = loss_func(y_hat, y_true)\n",
    "\n",
    "                step_test += 1\n",
    "                running_loss_test += loss\n",
    "\n",
    "\n",
    "            running_loss = running_loss / (step + 1)\n",
    "            running_loss_test = running_loss_test / (step_test + 1)\n",
    "\n",
    "            scheduler.step()\n",
    "\n",
    "            train_loss.append(running_loss.item())\n",
    "            test_loss.append(running_loss_test.item())\n",
    "            \n",
    "            print(f\"Epoch {epoch} train MSE: {running_loss.item():.4f}, \"+ \\\n",
    "                f\"test MSE: {running_loss_test.item():.4f}, lr: {scheduler.get_last_lr()[0]:.4f}, time_per_epoch: {(time.time() - st) / (epoch+1):.1f}\")\n",
    "        \n",
    "        print(f'Finished in {(time.time() - st)/60} minutes')\n",
    "\n",
    "        self.loss = pd.DataFrame({\n",
    "            'train_loss': train_loss,\n",
    "            'test_loss': test_loss,\n",
    "\n",
    "        })\n",
    "        \n",
    "    def predict(self, x):\n",
    "\n",
    "        if self.thresh is None:\n",
    "            raise ValueError('Please set the threshold using set_thresh(thresh)!')\n",
    "\n",
    "        image_shape = x[0].shape[1:-1]\n",
    "\n",
    "        x = add_positional_encoding(x, self.model.input_timesteps)\n",
    "            \n",
    "        self.model.to(device)\n",
    "        \n",
    "        y_pred = []\n",
    "\n",
    "\n",
    "        for i in tqdm(range(len(x)), leave=False):\n",
    "\n",
    "            x_batch_img = x[i]  # 2D images (num_timesteps, x, y)\n",
    "\n",
    "            x_graph = image_to_graph(x_batch_img, num_features=self.input_features+2, thresh=self.thresh)\n",
    "\n",
    "            # Create a PyG graph object\n",
    "            graph = create_graph_structure(x_graph['graph_nodes'], x_graph['distances'])\n",
    "\n",
    "            x_batch = x_graph['data']  # Image in graph format\n",
    "\n",
    "            graph.x = torch.from_numpy(x_batch).float()\n",
    "\n",
    "            graph.to(device)\n",
    "            \n",
    "            skip = graph.x[-1, :, [0]]  # 0th index variable is the variable of interest\n",
    "\n",
    "            y_hat, y_hat_graph = self.model(graph.x, None, x_graph, skip, image_shape, thresh=self.thresh, teacher_forcing_ratio=0)\n",
    "            y_hat_img = [unflatten(np.expand_dims(y_hat[i].detach(), 0), y_hat_graph[i]['graph_nodes'], y_hat_graph[i]['mappings'], image_shape=image_shape) for i in range(self.output_timesteps)]\n",
    "            \n",
    "            y_pred.append(y_hat_img)\n",
    "            \n",
    "        return np.array(y_pred)\n",
    "\n",
    "\n",
    "\n",
    "\n",
    "model_kwargs = dict(\n",
    "    hidden_size=256,\n",
    "    dropout=0.1,\n",
    "    # multi_step_loss=3,\n",
    "    input_timesteps=4,\n",
    "    )\n",
    "\n",
    "device = torch.device(\"cuda:0\" if torch.cuda.is_available() else \"cpu\")\n",
    "\n",
    "model = NextFramePredictorSeq2Seq(experiment_name='test',\n",
    "                                  decompose=True,\n",
    "                                  input_features=1,\n",
    "                                  integrated_space_time=True,\n",
    "                                  device=device,\n",
    "                                  output_timesteps=output_timesteps, \n",
    "                                  **model_kwargs)\n",
    "model.get_n_params()\n",
    "\n",
    "model.set_thresh(-np.inf)\n",
    "# model.set_thresh(-2)\n",
    "# model.set_thresh(0.5)\n",
    "\n",
    "model.train(x, y, x_test, y_test, lr=0.001, n_epochs=25)"
   ]
  },
  {
   "cell_type": "code",
   "execution_count": 6,
   "id": "53f9c374-70bc-440c-b3be-e2d53cccf93a",
   "metadata": {},
   "outputs": [
    {
     "name": "stderr",
     "output_type": "stream",
     "text": [
      "                                                 \r"
     ]
    },
    {
     "name": "stdout",
     "output_type": "stream",
     "text": [
      "Epoch 0 train MSE: 0.3133, test MSE: 0.2919, lr: 0.0010, time_per_epoch: 12.2\n"
     ]
    },
    {
     "name": "stderr",
     "output_type": "stream",
     "text": [
      "                                                \r"
     ]
    },
    {
     "name": "stdout",
     "output_type": "stream",
     "text": [
      "Epoch 1 train MSE: 0.3112, test MSE: 0.2993, lr: 0.0010, time_per_epoch: 12.5\n"
     ]
    },
    {
     "name": "stderr",
     "output_type": "stream",
     "text": [
      "                                                 \r"
     ]
    },
    {
     "name": "stdout",
     "output_type": "stream",
     "text": [
      "Epoch 2 train MSE: 0.3043, test MSE: 0.2982, lr: 0.0010, time_per_epoch: 13.0\n"
     ]
    },
    {
     "name": "stderr",
     "output_type": "stream",
     "text": [
      "                                                 \r"
     ]
    },
    {
     "name": "stdout",
     "output_type": "stream",
     "text": [
      "Epoch 3 train MSE: 0.3138, test MSE: 0.2912, lr: 0.0010, time_per_epoch: 13.1\n"
     ]
    },
    {
     "name": "stderr",
     "output_type": "stream",
     "text": [
      "                                                 \r"
     ]
    },
    {
     "name": "stdout",
     "output_type": "stream",
     "text": [
      "Epoch 4 train MSE: 0.2959, test MSE: 0.2974, lr: 0.0010, time_per_epoch: 13.5\n"
     ]
    },
    {
     "name": "stderr",
     "output_type": "stream",
     "text": [
      "                                                 \r"
     ]
    },
    {
     "name": "stdout",
     "output_type": "stream",
     "text": [
      "Epoch 5 train MSE: 0.3036, test MSE: 0.2999, lr: 0.0010, time_per_epoch: 13.9\n"
     ]
    },
    {
     "name": "stderr",
     "output_type": "stream",
     "text": [
      "                                                 \r"
     ]
    },
    {
     "name": "stdout",
     "output_type": "stream",
     "text": [
      "Epoch 6 train MSE: 0.2932, test MSE: 0.2955, lr: 0.0010, time_per_epoch: 14.2\n"
     ]
    },
    {
     "name": "stderr",
     "output_type": "stream",
     "text": [
      "                                                 \r"
     ]
    },
    {
     "name": "stdout",
     "output_type": "stream",
     "text": [
      "Epoch 7 train MSE: 0.2913, test MSE: 0.2890, lr: 0.0010, time_per_epoch: 14.4\n"
     ]
    },
    {
     "name": "stderr",
     "output_type": "stream",
     "text": [
      "                                                 \r"
     ]
    },
    {
     "name": "stdout",
     "output_type": "stream",
     "text": [
      "Epoch 8 train MSE: 0.2947, test MSE: 0.3038, lr: 0.0010, time_per_epoch: 14.5\n"
     ]
    },
    {
     "name": "stderr",
     "output_type": "stream",
     "text": [
      "                                                 \r"
     ]
    },
    {
     "name": "stdout",
     "output_type": "stream",
     "text": [
      "Epoch 9 train MSE: 0.3016, test MSE: 0.2838, lr: 0.0009, time_per_epoch: 14.5\n"
     ]
    },
    {
     "name": "stderr",
     "output_type": "stream",
     "text": [
      "                                                 \r"
     ]
    },
    {
     "name": "stdout",
     "output_type": "stream",
     "text": [
      "Epoch 10 train MSE: 0.2978, test MSE: 0.2932, lr: 0.0009, time_per_epoch: 14.5\n"
     ]
    },
    {
     "name": "stderr",
     "output_type": "stream",
     "text": [
      "                                                 \r"
     ]
    },
    {
     "name": "stdout",
     "output_type": "stream",
     "text": [
      "Epoch 11 train MSE: 0.2944, test MSE: 0.2812, lr: 0.0009, time_per_epoch: 14.6\n"
     ]
    },
    {
     "name": "stderr",
     "output_type": "stream",
     "text": [
      "                                                 \r"
     ]
    },
    {
     "name": "stdout",
     "output_type": "stream",
     "text": [
      "Epoch 12 train MSE: 0.2929, test MSE: 0.2748, lr: 0.0009, time_per_epoch: 14.7\n"
     ]
    },
    {
     "name": "stderr",
     "output_type": "stream",
     "text": [
      "                                                 \r"
     ]
    },
    {
     "name": "stdout",
     "output_type": "stream",
     "text": [
      "Epoch 13 train MSE: 0.2964, test MSE: 0.2904, lr: 0.0009, time_per_epoch: 14.8\n"
     ]
    },
    {
     "name": "stderr",
     "output_type": "stream",
     "text": [
      "                                                 \r"
     ]
    },
    {
     "name": "stdout",
     "output_type": "stream",
     "text": [
      "Epoch 14 train MSE: 0.3014, test MSE: 0.2988, lr: 0.0009, time_per_epoch: 14.9\n"
     ]
    },
    {
     "name": "stderr",
     "output_type": "stream",
     "text": [
      "                                                 \r"
     ]
    },
    {
     "name": "stdout",
     "output_type": "stream",
     "text": [
      "Epoch 15 train MSE: 0.3002, test MSE: 0.2850, lr: 0.0009, time_per_epoch: 15.0\n"
     ]
    },
    {
     "name": "stderr",
     "output_type": "stream",
     "text": [
      "                                                 \r"
     ]
    },
    {
     "name": "stdout",
     "output_type": "stream",
     "text": [
      "Epoch 16 train MSE: 0.2970, test MSE: 0.2888, lr: 0.0009, time_per_epoch: 15.0\n"
     ]
    },
    {
     "name": "stderr",
     "output_type": "stream",
     "text": [
      "                                                 \r"
     ]
    },
    {
     "name": "stdout",
     "output_type": "stream",
     "text": [
      "Epoch 17 train MSE: 0.2880, test MSE: 0.2921, lr: 0.0009, time_per_epoch: 15.0\n"
     ]
    },
    {
     "name": "stderr",
     "output_type": "stream",
     "text": [
      "                                                 \r"
     ]
    },
    {
     "name": "stdout",
     "output_type": "stream",
     "text": [
      "Epoch 18 train MSE: 0.2845, test MSE: 0.2820, lr: 0.0009, time_per_epoch: 15.0\n"
     ]
    },
    {
     "name": "stderr",
     "output_type": "stream",
     "text": [
      "                                                 \r"
     ]
    },
    {
     "name": "stdout",
     "output_type": "stream",
     "text": [
      "Epoch 19 train MSE: 0.2818, test MSE: 0.2987, lr: 0.0009, time_per_epoch: 15.1\n"
     ]
    },
    {
     "name": "stderr",
     "output_type": "stream",
     "text": [
      "                                                 \r"
     ]
    },
    {
     "name": "stdout",
     "output_type": "stream",
     "text": [
      "Epoch 20 train MSE: 0.2861, test MSE: 0.2916, lr: 0.0009, time_per_epoch: 15.1\n"
     ]
    },
    {
     "name": "stderr",
     "output_type": "stream",
     "text": [
      "                                                \r"
     ]
    },
    {
     "name": "stdout",
     "output_type": "stream",
     "text": [
      "Epoch 21 train MSE: 0.2987, test MSE: 0.2989, lr: 0.0009, time_per_epoch: 15.1\n"
     ]
    },
    {
     "name": "stderr",
     "output_type": "stream",
     "text": [
      "                                                 \r"
     ]
    },
    {
     "name": "stdout",
     "output_type": "stream",
     "text": [
      "Epoch 22 train MSE: 0.2891, test MSE: 0.2952, lr: 0.0009, time_per_epoch: 15.1\n"
     ]
    },
    {
     "name": "stderr",
     "output_type": "stream",
     "text": [
      "                                                 \r"
     ]
    },
    {
     "name": "stdout",
     "output_type": "stream",
     "text": [
      "Epoch 23 train MSE: 0.2915, test MSE: 0.2984, lr: 0.0009, time_per_epoch: 15.1\n"
     ]
    },
    {
     "name": "stderr",
     "output_type": "stream",
     "text": [
      "                                                \r"
     ]
    },
    {
     "name": "stdout",
     "output_type": "stream",
     "text": [
      "Epoch 24 train MSE: 0.2898, test MSE: 0.2842, lr: 0.0009, time_per_epoch: 15.2\n",
      "Finished in 6.346228651205698 minutes\n"
     ]
    }
   ],
   "source": [
    "model.train(x, y, x_test, y_test, lr=0.001, n_epochs=25)"
   ]
  },
  {
   "cell_type": "code",
   "execution_count": 7,
   "id": "9e433b09-129d-4f64-ad81-4f9ae9bf60a1",
   "metadata": {},
   "outputs": [
    {
     "name": "stderr",
     "output_type": "stream",
     "text": [
      "                                             \r"
     ]
    },
    {
     "data": {
      "image/png": "[encoded data removed]",
      "text/plain": [
       "<Figure size 1728x288 with 8 Axes>"
      ]
     },
     "metadata": {
      "needs_background": "light"
     },
     "output_type": "display_data"
    },
    {
     "data": {
      "image/png": "[encoded data removed]",
      "text/plain": [
       "<Figure size 1728x288 with 8 Axes>"
      ]
     },
     "metadata": {
      "needs_background": "light"
     },
     "output_type": "display_data"
    },
    {
     "data": {
      "image/png": "[encoded data removed]",
      "text/plain": [
       "<Figure size 1728x288 with 8 Axes>"
      ]
     },
     "metadata": {
      "needs_background": "light"
     },
     "output_type": "display_data"
    },
    {
     "data": {
      "image/png": "[encoded data removed]",
      "text/plain": [
       "<Figure size 1728x288 with 8 Axes>"
      ]
     },
     "metadata": {
      "needs_background": "light"
     },
     "output_type": "display_data"
    },
    {
     "data": {
      "image/png": "[encoded data removed]",
      "text/plain": [
       "<Figure size 1728x288 with 8 Axes>"
      ]
     },
     "metadata": {
      "needs_background": "light"
     },
     "output_type": "display_data"
    },
    {
     "data": {
      "image/png": "[encoded data removed]",
      "text/plain": [
       "<Figure size 1728x288 with 8 Axes>"
      ]
     },
     "metadata": {
      "needs_background": "light"
     },
     "output_type": "display_data"
    }
   ],
   "source": [
    "# Plot some example \n",
    "num_frames = 6\n",
    "\n",
    "y_hat = model.predict(x_val[:num_frames])\n",
    "\n",
    "for i in range(num_frames):\n",
    "    fig, axs = plt.subplots(1, input_timesteps+output_timesteps, figsize=(3*(input_timesteps+output_timesteps), 4))\n",
    "    \n",
    "    # Inputs\n",
    "    for j in range(input_timesteps):\n",
    "        axs[j].imshow(x_val[i][j, ..., 0])\n",
    "    \n",
    "    for j in range(output_timesteps):\n",
    "        axs[input_timesteps+j].imshow(y_hat[i][j][0, ..., 0])#, vmin=0, vmax=1)  # Prediction"
   ]
  },
  {
   "cell_type": "code",
   "execution_count": 8,
   "id": "5a70be2f-15d6-4818-8f9a-4b5eec9cc9e5",
   "metadata": {},
   "outputs": [
    {
     "data": {
      "text/plain": [
       "<AxesSubplot: >"
      ]
     },
     "execution_count": 8,
     "metadata": {},
     "output_type": "execute_result"
    },
    {
     "data": {
      "image/png": "[encoded data removed]",
      "text/plain": [
       "<Figure size 432x288 with 1 Axes>"
      ]
     },
     "metadata": {
      "needs_background": "light"
     },
     "output_type": "display_data"
    }
   ],
   "source": [
    "model.loss.iloc[1:].plot()"
   ]
  },
  {
   "cell_type": "code",
   "execution_count": null,
   "id": "9c006c6b-c401-4dd3-9b7a-e942d4b80106",
   "metadata": {},
   "outputs": [],
   "source": []
  }
 ],
 "metadata": {
  "kernelspec": {
   "display_name": "mpnnlstm",
   "language": "python",
   "name": "mpnnlstm"
  },
  "language_info": {
   "codemirror_mode": {
    "name": "ipython",
    "version": 3
   },
   "file_extension": ".py",
   "mimetype": "text/x-python",
   "name": "python",
   "nbconvert_exporter": "python",
   "pygments_lexer": "ipython3",
   "version": "3.8.15"
  }
 },
 "nbformat": 4,
 "nbformat_minor": 5
}
