{
 "cells": [
  {
   "cell_type": "code",
   "execution_count": null,
   "id": "a87f3e9f-5b23-460e-a9b6-8f904c9ad878",
   "metadata": {},
   "outputs": [],
   "source": [
    "%load_ext autoreload\n",
    "%autoreload 2\n",
    "\n",
    "import matplotlib.pyplot as plt\n",
    "import numpy as np\n",
    "import torch\n",
    "import random\n",
    "import os\n",
    "\n",
    "from utils import normalize\n",
    "from torch.utils.data import DataLoader\n",
    "\n",
    "from mod_moving_mnist import ModMovingMNISTDataset\n",
    "from mpnnlstm import NextFramePredictorS2S\n",
    "from model import MPNNLSTM, MPNNLSTMI"
   ]
  },
  {
   "cell_type": "code",
   "execution_count": null,
   "id": "6153c848-a5e8-4b93-8aa6-f59a0b957c25",
   "metadata": {},
   "outputs": [],
   "source": [
    "np.random.seed(1)\n",
    "random.seed(1)\n",
    "torch.manual_seed(1)\n",
    "\n",
    "def collate_fn(batch):\n",
    "    return batch[0]\n",
    "\n",
    "input_features = 1\n",
    "input_timesteps = 3\n",
    "output_timesteps = 10\n",
    "\n",
    "# Create a dataset using the modified MovingMNIST\n",
    "mnist_kwargs = dict(\n",
    "    input_timesteps=input_timesteps,\n",
    "    output_timesteps=output_timesteps,\n",
    "    n_digits=1,\n",
    "    gap=0,\n",
    "    canvas_size=(32, 32),\n",
    "    digit_size=(18, 18),\n",
    "    pixel_noise=0.05,\n",
    "    velocity_noise=0.1  # 0.15\n",
    ")\n",
    "\n",
    "# Create a train set (500), test set (50), and validation set (50)\n",
    "data_train = ModMovingMNISTDataset(500, **mnist_kwargs)\n",
    "data_test = ModMovingMNISTDataset(50, **mnist_kwargs)\n",
    "data_val = ModMovingMNISTDataset(50, **mnist_kwargs)\n",
    "\n",
    "loader_train = DataLoader(data_train, batch_size=1, shuffle=True)\n",
    "loader_test = DataLoader(data_test, batch_size=1, shuffle=True)\n",
    "loader_val = DataLoader(data_val, batch_size=1, shuffle=False)"
   ]
  },
  {
   "cell_type": "code",
   "execution_count": null,
   "id": "06dd7ed9-fc8a-40c0-aa4b-8d7608e79719",
   "metadata": {},
   "outputs": [],
   "source": [
    "from mpnnlstm import NextFramePredictor\n",
    "\n",
    "from torch.optim.lr_scheduler import StepLR\n",
    "import time\n",
    "import pandas as pd\n",
    "from tqdm import tqdm\n",
    "\n",
    "from graph_functions import image_to_graph, flatten, create_graph_structure, unflatten\n",
    "from utils import add_positional_encoding\n",
    "\n",
    "np.random.seed(1)\n",
    "random.seed(1)\n",
    "torch.manual_seed(1)\n",
    "\n",
    "device = torch.device(\"cuda:0\" if torch.cuda.is_available() else \"cpu\")\n",
    "# device = torch.device('mps')\n",
    "\n",
    "# Add 3 to the number of input features since we add positional encoding (x, y) and node size (s)\n",
    "model_kwargs = dict(\n",
    "    hidden_size=16,\n",
    "    dropout=0.1,\n",
    "    n_layers=1\n",
    ")\n",
    "\n",
    "\n",
    "model = NextFramePredictorS2S(\n",
    "    thresh=0.1,\n",
    "    experiment_name='test',\n",
    "    decompose=True,\n",
    "    input_features=1,\n",
    "    device=device,\n",
    "    output_timesteps=output_timesteps,\n",
    "    model_kwargs=model_kwargs)\n",
    "\n",
    "model.get_n_params()"
   ]
  },
  {
   "cell_type": "code",
   "execution_count": null,
   "id": "0498ed5b-a685-4c13-a982-37038afe2082",
   "metadata": {
    "tags": []
   },
   "outputs": [],
   "source": [
    "x, _ = next(iter(loader_val))\n",
    "x = x.squeeze(0)\n",
    "\n",
    "fig, axs = model.test_threshold(x, thresh=1.5)\n",
    "plt.show()\n",
    "\n",
    "fig, axs = model.test_threshold(x, thresh=0.85)\n",
    "plt.show()\n",
    "\n",
    "fig, axs = model.test_threshold(x, thresh=0.5)\n",
    "plt.show()\n",
    "\n",
    "fig, axs = model.test_threshold(x, thresh=0.15)\n",
    "plt.show()"
   ]
  },
  {
   "cell_type": "raw",
   "id": "42a409da-eb5d-43ce-871e-1d2e90b2809b",
   "metadata": {
    "jupyter": {
     "outputs_hidden": true
    },
    "tags": []
   },
   "source": [
    "import cProfile\n",
    "loader_profile = DataLoader(data_train, batch_size=1, sampler=torch.utils.data.SubsetRandomSampler(range(10)))\n",
    "cProfile.run('model.train(loader_profile, loader_profile, lr=0.01, n_epochs=1)', sort=1)"
   ]
  },
  {
   "cell_type": "code",
   "execution_count": null,
   "id": "c3d6d4f9-b607-4cb7-9c9e-52fc0d58ff81",
   "metadata": {
    "tags": []
   },
   "outputs": [],
   "source": [
    "model.train(loader_train, loader_test, lr=0.01, n_epochs=15)"
   ]
  },
  {
   "cell_type": "code",
   "execution_count": null,
   "id": "68831c29-ab26-4c20-b44c-77f7c930471b",
   "metadata": {},
   "outputs": [],
   "source": [
    "model.loss.plot()"
   ]
  },
  {
   "cell_type": "code",
   "execution_count": null,
   "id": "c16240da-674a-42b8-a67b-c80ce25e13d4",
   "metadata": {},
   "outputs": [],
   "source": [
    "y_hat = model.predict(loader_val)"
   ]
  },
  {
   "cell_type": "code",
   "execution_count": null,
   "id": "9e433b09-129d-4f64-ad81-4f9ae9bf60a1",
   "metadata": {},
   "outputs": [],
   "source": [
    "# Plot some example \n",
    "num_frames = 6\n",
    "\n",
    "for i in range(num_frames):\n",
    "    fig, axs = plt.subplots(1, input_timesteps+output_timesteps, figsize=(3*(input_timesteps+output_timesteps), 4))\n",
    "    \n",
    "    # Inputs\n",
    "    for j in range(input_timesteps):\n",
    "        axs[j].imshow(loader_test.dataset.x[i][j, ..., 0])\n",
    "    \n",
    "    for j in range(output_timesteps):\n",
    "        axs[input_timesteps+j].imshow(y_hat[i][j][..., 0], vmin=0, vmax=1)  # Prediction"
   ]
  },
  {
   "cell_type": "code",
   "execution_count": null,
   "id": "5a70be2f-15d6-4818-8f9a-4b5eec9cc9e5",
   "metadata": {},
   "outputs": [],
   "source": [
    "model.loss.iloc[1:].plot()"
   ]
  }
 ],
 "metadata": {
  "kernelspec": {
   "display_name": "thesis",
   "language": "python",
   "name": "thesis"
  },
  "language_info": {
   "codemirror_mode": {
    "name": "ipython",
    "version": 3
   },
   "file_extension": ".py",
   "mimetype": "text/x-python",
   "name": "python",
   "nbconvert_exporter": "python",
   "pygments_lexer": "ipython3",
   "version": "3.10.9"
  }
 },
 "nbformat": 4,
 "nbformat_minor": 5
}
